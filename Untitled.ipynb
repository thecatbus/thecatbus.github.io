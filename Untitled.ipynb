{
 "cells": [
  {
   "cell_type": "code",
   "execution_count": 9,
   "id": "515f05c6-8b85-4217-985f-d6d41719b823",
   "metadata": {},
   "outputs": [],
   "source": [
    "using Oscar"
   ]
  },
  {
   "cell_type": "code",
   "execution_count": 11,
   "id": "874c9bd5-3936-4304-941b-15e4f4b749ac",
   "metadata": {},
   "outputs": [
    {
     "ename": "LoadError",
     "evalue": "syntax: extra token \"QPA\" after end of expression",
     "output_type": "error",
     "traceback": [
      "syntax: extra token \"QPA\" after end of expression",
      "",
      "Stacktrace:",
      " [1] top-level scope",
      "   @ In[11]:1"
     ]
    }
   ],
   "source": [
    "LoadPackage QPA"
   ]
  },
  {
   "cell_type": "code",
   "execution_count": null,
   "id": "e514b838-7c5f-42c6-b7c5-0178ae011cf3",
   "metadata": {},
   "outputs": [],
   "source": []
  }
 ],
 "metadata": {
  "kernelspec": {
   "display_name": "Julia 1.8.5",
   "language": "julia",
   "name": "julia-1.8"
  },
  "language_info": {
   "file_extension": ".jl",
   "mimetype": "application/julia",
   "name": "julia",
   "version": "1.8.5"
  }
 },
 "nbformat": 4,
 "nbformat_minor": 5
}
